{
 "cells": [
  {
   "cell_type": "code",
   "execution_count": 265,
   "id": "28833f39",
   "metadata": {},
   "outputs": [
    {
     "name": "stdout",
     "output_type": "stream",
     "text": [
      "Requirement already satisfied: pandas in /home/ameli/cse517p-project/.venv/lib/python3.12/site-packages (2.2.3)\n",
      "Requirement already satisfied: numpy>=1.26.0 in /home/ameli/cse517p-project/.venv/lib/python3.12/site-packages (from pandas) (2.2.5)\n",
      "Requirement already satisfied: python-dateutil>=2.8.2 in /home/ameli/cse517p-project/.venv/lib/python3.12/site-packages (from pandas) (2.9.0.post0)\n",
      "Requirement already satisfied: pytz>=2020.1 in /home/ameli/cse517p-project/.venv/lib/python3.12/site-packages (from pandas) (2025.2)\n",
      "Requirement already satisfied: tzdata>=2022.7 in /home/ameli/cse517p-project/.venv/lib/python3.12/site-packages (from pandas) (2025.2)\n",
      "Requirement already satisfied: six>=1.5 in /home/ameli/cse517p-project/.venv/lib/python3.12/site-packages (from python-dateutil>=2.8.2->pandas) (1.17.0)\n",
      "Requirement already satisfied: sentence-transformers in /home/ameli/cse517p-project/.venv/lib/python3.12/site-packages (4.1.0)\n",
      "Requirement already satisfied: transformers<5.0.0,>=4.41.0 in /home/ameli/cse517p-project/.venv/lib/python3.12/site-packages (from sentence-transformers) (4.51.3)\n",
      "Requirement already satisfied: tqdm in /home/ameli/cse517p-project/.venv/lib/python3.12/site-packages (from sentence-transformers) (4.67.1)\n",
      "Requirement already satisfied: torch>=1.11.0 in /home/ameli/cse517p-project/.venv/lib/python3.12/site-packages (from sentence-transformers) (2.7.0)\n",
      "Requirement already satisfied: scikit-learn in /home/ameli/cse517p-project/.venv/lib/python3.12/site-packages (from sentence-transformers) (1.6.1)\n",
      "Requirement already satisfied: scipy in /home/ameli/cse517p-project/.venv/lib/python3.12/site-packages (from sentence-transformers) (1.15.2)\n",
      "Requirement already satisfied: huggingface-hub>=0.20.0 in /home/ameli/cse517p-project/.venv/lib/python3.12/site-packages (from sentence-transformers) (0.31.1)\n",
      "Requirement already satisfied: Pillow in /home/ameli/cse517p-project/.venv/lib/python3.12/site-packages (from sentence-transformers) (11.2.1)\n",
      "Requirement already satisfied: typing_extensions>=4.5.0 in /home/ameli/cse517p-project/.venv/lib/python3.12/site-packages (from sentence-transformers) (4.13.2)\n",
      "Requirement already satisfied: filelock in /home/ameli/cse517p-project/.venv/lib/python3.12/site-packages (from transformers<5.0.0,>=4.41.0->sentence-transformers) (3.18.0)\n",
      "Requirement already satisfied: numpy>=1.17 in /home/ameli/cse517p-project/.venv/lib/python3.12/site-packages (from transformers<5.0.0,>=4.41.0->sentence-transformers) (2.2.5)\n",
      "Requirement already satisfied: packaging>=20.0 in /home/ameli/cse517p-project/.venv/lib/python3.12/site-packages (from transformers<5.0.0,>=4.41.0->sentence-transformers) (25.0)\n",
      "Requirement already satisfied: pyyaml>=5.1 in /home/ameli/cse517p-project/.venv/lib/python3.12/site-packages (from transformers<5.0.0,>=4.41.0->sentence-transformers) (6.0.2)\n",
      "Requirement already satisfied: regex!=2019.12.17 in /home/ameli/cse517p-project/.venv/lib/python3.12/site-packages (from transformers<5.0.0,>=4.41.0->sentence-transformers) (2024.11.6)\n",
      "Requirement already satisfied: requests in /home/ameli/cse517p-project/.venv/lib/python3.12/site-packages (from transformers<5.0.0,>=4.41.0->sentence-transformers) (2.32.3)\n",
      "Requirement already satisfied: tokenizers<0.22,>=0.21 in /home/ameli/cse517p-project/.venv/lib/python3.12/site-packages (from transformers<5.0.0,>=4.41.0->sentence-transformers) (0.21.1)\n",
      "Requirement already satisfied: safetensors>=0.4.3 in /home/ameli/cse517p-project/.venv/lib/python3.12/site-packages (from transformers<5.0.0,>=4.41.0->sentence-transformers) (0.5.3)\n",
      "Requirement already satisfied: fsspec>=2023.5.0 in /home/ameli/cse517p-project/.venv/lib/python3.12/site-packages (from huggingface-hub>=0.20.0->sentence-transformers) (2025.3.2)\n",
      "Requirement already satisfied: hf-xet<2.0.0,>=1.1.0 in /home/ameli/cse517p-project/.venv/lib/python3.12/site-packages (from huggingface-hub>=0.20.0->sentence-transformers) (1.1.0)\n",
      "Requirement already satisfied: setuptools in /home/ameli/cse517p-project/.venv/lib/python3.12/site-packages (from torch>=1.11.0->sentence-transformers) (80.3.1)\n",
      "Requirement already satisfied: sympy>=1.13.3 in /home/ameli/cse517p-project/.venv/lib/python3.12/site-packages (from torch>=1.11.0->sentence-transformers) (1.14.0)\n",
      "Requirement already satisfied: networkx in /home/ameli/cse517p-project/.venv/lib/python3.12/site-packages (from torch>=1.11.0->sentence-transformers) (3.4.2)\n",
      "Requirement already satisfied: jinja2 in /home/ameli/cse517p-project/.venv/lib/python3.12/site-packages (from torch>=1.11.0->sentence-transformers) (3.1.6)\n",
      "Requirement already satisfied: nvidia-cuda-nvrtc-cu12==12.6.77 in /home/ameli/cse517p-project/.venv/lib/python3.12/site-packages (from torch>=1.11.0->sentence-transformers) (12.6.77)\n",
      "Requirement already satisfied: nvidia-cuda-runtime-cu12==12.6.77 in /home/ameli/cse517p-project/.venv/lib/python3.12/site-packages (from torch>=1.11.0->sentence-transformers) (12.6.77)\n",
      "Requirement already satisfied: nvidia-cuda-cupti-cu12==12.6.80 in /home/ameli/cse517p-project/.venv/lib/python3.12/site-packages (from torch>=1.11.0->sentence-transformers) (12.6.80)\n",
      "Requirement already satisfied: nvidia-cudnn-cu12==9.5.1.17 in /home/ameli/cse517p-project/.venv/lib/python3.12/site-packages (from torch>=1.11.0->sentence-transformers) (9.5.1.17)\n",
      "Requirement already satisfied: nvidia-cublas-cu12==12.6.4.1 in /home/ameli/cse517p-project/.venv/lib/python3.12/site-packages (from torch>=1.11.0->sentence-transformers) (12.6.4.1)\n",
      "Requirement already satisfied: nvidia-cufft-cu12==11.3.0.4 in /home/ameli/cse517p-project/.venv/lib/python3.12/site-packages (from torch>=1.11.0->sentence-transformers) (11.3.0.4)\n",
      "Requirement already satisfied: nvidia-curand-cu12==10.3.7.77 in /home/ameli/cse517p-project/.venv/lib/python3.12/site-packages (from torch>=1.11.0->sentence-transformers) (10.3.7.77)\n",
      "Requirement already satisfied: nvidia-cusolver-cu12==11.7.1.2 in /home/ameli/cse517p-project/.venv/lib/python3.12/site-packages (from torch>=1.11.0->sentence-transformers) (11.7.1.2)\n",
      "Requirement already satisfied: nvidia-cusparse-cu12==12.5.4.2 in /home/ameli/cse517p-project/.venv/lib/python3.12/site-packages (from torch>=1.11.0->sentence-transformers) (12.5.4.2)\n",
      "Requirement already satisfied: nvidia-cusparselt-cu12==0.6.3 in /home/ameli/cse517p-project/.venv/lib/python3.12/site-packages (from torch>=1.11.0->sentence-transformers) (0.6.3)\n",
      "Requirement already satisfied: nvidia-nccl-cu12==2.26.2 in /home/ameli/cse517p-project/.venv/lib/python3.12/site-packages (from torch>=1.11.0->sentence-transformers) (2.26.2)\n",
      "Requirement already satisfied: nvidia-nvtx-cu12==12.6.77 in /home/ameli/cse517p-project/.venv/lib/python3.12/site-packages (from torch>=1.11.0->sentence-transformers) (12.6.77)\n",
      "Requirement already satisfied: nvidia-nvjitlink-cu12==12.6.85 in /home/ameli/cse517p-project/.venv/lib/python3.12/site-packages (from torch>=1.11.0->sentence-transformers) (12.6.85)\n",
      "Requirement already satisfied: nvidia-cufile-cu12==1.11.1.6 in /home/ameli/cse517p-project/.venv/lib/python3.12/site-packages (from torch>=1.11.0->sentence-transformers) (1.11.1.6)\n",
      "Requirement already satisfied: triton==3.3.0 in /home/ameli/cse517p-project/.venv/lib/python3.12/site-packages (from torch>=1.11.0->sentence-transformers) (3.3.0)\n",
      "Requirement already satisfied: mpmath<1.4,>=1.1.0 in /home/ameli/cse517p-project/.venv/lib/python3.12/site-packages (from sympy>=1.13.3->torch>=1.11.0->sentence-transformers) (1.3.0)\n",
      "Requirement already satisfied: MarkupSafe>=2.0 in /home/ameli/cse517p-project/.venv/lib/python3.12/site-packages (from jinja2->torch>=1.11.0->sentence-transformers) (3.0.2)\n",
      "Requirement already satisfied: charset-normalizer<4,>=2 in /home/ameli/cse517p-project/.venv/lib/python3.12/site-packages (from requests->transformers<5.0.0,>=4.41.0->sentence-transformers) (3.4.2)\n",
      "Requirement already satisfied: idna<4,>=2.5 in /home/ameli/cse517p-project/.venv/lib/python3.12/site-packages (from requests->transformers<5.0.0,>=4.41.0->sentence-transformers) (3.10)\n",
      "Requirement already satisfied: urllib3<3,>=1.21.1 in /home/ameli/cse517p-project/.venv/lib/python3.12/site-packages (from requests->transformers<5.0.0,>=4.41.0->sentence-transformers) (2.4.0)\n",
      "Requirement already satisfied: certifi>=2017.4.17 in /home/ameli/cse517p-project/.venv/lib/python3.12/site-packages (from requests->transformers<5.0.0,>=4.41.0->sentence-transformers) (2025.4.26)\n",
      "Requirement already satisfied: joblib>=1.2.0 in /home/ameli/cse517p-project/.venv/lib/python3.12/site-packages (from scikit-learn->sentence-transformers) (1.5.0)\n",
      "Requirement already satisfied: threadpoolctl>=3.1.0 in /home/ameli/cse517p-project/.venv/lib/python3.12/site-packages (from scikit-learn->sentence-transformers) (3.6.0)\n",
      "Requirement already satisfied: matplotlib in /home/ameli/cse517p-project/.venv/lib/python3.12/site-packages (3.10.1)\n",
      "Requirement already satisfied: contourpy>=1.0.1 in /home/ameli/cse517p-project/.venv/lib/python3.12/site-packages (from matplotlib) (1.3.2)\n",
      "Requirement already satisfied: cycler>=0.10 in /home/ameli/cse517p-project/.venv/lib/python3.12/site-packages (from matplotlib) (0.12.1)\n",
      "Requirement already satisfied: fonttools>=4.22.0 in /home/ameli/cse517p-project/.venv/lib/python3.12/site-packages (from matplotlib) (4.57.0)\n",
      "Requirement already satisfied: kiwisolver>=1.3.1 in /home/ameli/cse517p-project/.venv/lib/python3.12/site-packages (from matplotlib) (1.4.8)\n",
      "Requirement already satisfied: numpy>=1.23 in /home/ameli/cse517p-project/.venv/lib/python3.12/site-packages (from matplotlib) (2.2.5)\n",
      "Requirement already satisfied: packaging>=20.0 in /home/ameli/cse517p-project/.venv/lib/python3.12/site-packages (from matplotlib) (25.0)\n",
      "Requirement already satisfied: pillow>=8 in /home/ameli/cse517p-project/.venv/lib/python3.12/site-packages (from matplotlib) (11.2.1)\n",
      "Requirement already satisfied: pyparsing>=2.3.1 in /home/ameli/cse517p-project/.venv/lib/python3.12/site-packages (from matplotlib) (3.2.3)\n",
      "Requirement already satisfied: python-dateutil>=2.7 in /home/ameli/cse517p-project/.venv/lib/python3.12/site-packages (from matplotlib) (2.9.0.post0)\n",
      "Requirement already satisfied: six>=1.5 in /home/ameli/cse517p-project/.venv/lib/python3.12/site-packages (from python-dateutil>=2.7->matplotlib) (1.17.0)\n",
      "Requirement already satisfied: seaborn in /home/ameli/cse517p-project/.venv/lib/python3.12/site-packages (0.13.2)\n",
      "Requirement already satisfied: numpy!=1.24.0,>=1.20 in /home/ameli/cse517p-project/.venv/lib/python3.12/site-packages (from seaborn) (2.2.5)\n",
      "Requirement already satisfied: pandas>=1.2 in /home/ameli/cse517p-project/.venv/lib/python3.12/site-packages (from seaborn) (2.2.3)\n",
      "Requirement already satisfied: matplotlib!=3.6.1,>=3.4 in /home/ameli/cse517p-project/.venv/lib/python3.12/site-packages (from seaborn) (3.10.1)\n",
      "Requirement already satisfied: contourpy>=1.0.1 in /home/ameli/cse517p-project/.venv/lib/python3.12/site-packages (from matplotlib!=3.6.1,>=3.4->seaborn) (1.3.2)\n",
      "Requirement already satisfied: cycler>=0.10 in /home/ameli/cse517p-project/.venv/lib/python3.12/site-packages (from matplotlib!=3.6.1,>=3.4->seaborn) (0.12.1)\n",
      "Requirement already satisfied: fonttools>=4.22.0 in /home/ameli/cse517p-project/.venv/lib/python3.12/site-packages (from matplotlib!=3.6.1,>=3.4->seaborn) (4.57.0)\n",
      "Requirement already satisfied: kiwisolver>=1.3.1 in /home/ameli/cse517p-project/.venv/lib/python3.12/site-packages (from matplotlib!=3.6.1,>=3.4->seaborn) (1.4.8)\n",
      "Requirement already satisfied: packaging>=20.0 in /home/ameli/cse517p-project/.venv/lib/python3.12/site-packages (from matplotlib!=3.6.1,>=3.4->seaborn) (25.0)\n",
      "Requirement already satisfied: pillow>=8 in /home/ameli/cse517p-project/.venv/lib/python3.12/site-packages (from matplotlib!=3.6.1,>=3.4->seaborn) (11.2.1)\n",
      "Requirement already satisfied: pyparsing>=2.3.1 in /home/ameli/cse517p-project/.venv/lib/python3.12/site-packages (from matplotlib!=3.6.1,>=3.4->seaborn) (3.2.3)\n",
      "Requirement already satisfied: python-dateutil>=2.7 in /home/ameli/cse517p-project/.venv/lib/python3.12/site-packages (from matplotlib!=3.6.1,>=3.4->seaborn) (2.9.0.post0)\n",
      "Requirement already satisfied: pytz>=2020.1 in /home/ameli/cse517p-project/.venv/lib/python3.12/site-packages (from pandas>=1.2->seaborn) (2025.2)\n",
      "Requirement already satisfied: tzdata>=2022.7 in /home/ameli/cse517p-project/.venv/lib/python3.12/site-packages (from pandas>=1.2->seaborn) (2025.2)\n",
      "Requirement already satisfied: six>=1.5 in /home/ameli/cse517p-project/.venv/lib/python3.12/site-packages (from python-dateutil>=2.7->matplotlib!=3.6.1,>=3.4->seaborn) (1.17.0)\n",
      "Requirement already satisfied: sentence_transformers in /home/ameli/cse517p-project/.venv/lib/python3.12/site-packages (4.1.0)\n",
      "Requirement already satisfied: transformers<5.0.0,>=4.41.0 in /home/ameli/cse517p-project/.venv/lib/python3.12/site-packages (from sentence_transformers) (4.51.3)\n",
      "Requirement already satisfied: tqdm in /home/ameli/cse517p-project/.venv/lib/python3.12/site-packages (from sentence_transformers) (4.67.1)\n",
      "Requirement already satisfied: torch>=1.11.0 in /home/ameli/cse517p-project/.venv/lib/python3.12/site-packages (from sentence_transformers) (2.7.0)\n",
      "Requirement already satisfied: scikit-learn in /home/ameli/cse517p-project/.venv/lib/python3.12/site-packages (from sentence_transformers) (1.6.1)\n",
      "Requirement already satisfied: scipy in /home/ameli/cse517p-project/.venv/lib/python3.12/site-packages (from sentence_transformers) (1.15.2)\n",
      "Requirement already satisfied: huggingface-hub>=0.20.0 in /home/ameli/cse517p-project/.venv/lib/python3.12/site-packages (from sentence_transformers) (0.31.1)\n",
      "Requirement already satisfied: Pillow in /home/ameli/cse517p-project/.venv/lib/python3.12/site-packages (from sentence_transformers) (11.2.1)\n",
      "Requirement already satisfied: typing_extensions>=4.5.0 in /home/ameli/cse517p-project/.venv/lib/python3.12/site-packages (from sentence_transformers) (4.13.2)\n",
      "Requirement already satisfied: filelock in /home/ameli/cse517p-project/.venv/lib/python3.12/site-packages (from transformers<5.0.0,>=4.41.0->sentence_transformers) (3.18.0)\n",
      "Requirement already satisfied: numpy>=1.17 in /home/ameli/cse517p-project/.venv/lib/python3.12/site-packages (from transformers<5.0.0,>=4.41.0->sentence_transformers) (2.2.5)\n",
      "Requirement already satisfied: packaging>=20.0 in /home/ameli/cse517p-project/.venv/lib/python3.12/site-packages (from transformers<5.0.0,>=4.41.0->sentence_transformers) (25.0)\n",
      "Requirement already satisfied: pyyaml>=5.1 in /home/ameli/cse517p-project/.venv/lib/python3.12/site-packages (from transformers<5.0.0,>=4.41.0->sentence_transformers) (6.0.2)\n",
      "Requirement already satisfied: regex!=2019.12.17 in /home/ameli/cse517p-project/.venv/lib/python3.12/site-packages (from transformers<5.0.0,>=4.41.0->sentence_transformers) (2024.11.6)\n",
      "Requirement already satisfied: requests in /home/ameli/cse517p-project/.venv/lib/python3.12/site-packages (from transformers<5.0.0,>=4.41.0->sentence_transformers) (2.32.3)\n",
      "Requirement already satisfied: tokenizers<0.22,>=0.21 in /home/ameli/cse517p-project/.venv/lib/python3.12/site-packages (from transformers<5.0.0,>=4.41.0->sentence_transformers) (0.21.1)\n",
      "Requirement already satisfied: safetensors>=0.4.3 in /home/ameli/cse517p-project/.venv/lib/python3.12/site-packages (from transformers<5.0.0,>=4.41.0->sentence_transformers) (0.5.3)\n",
      "Requirement already satisfied: fsspec>=2023.5.0 in /home/ameli/cse517p-project/.venv/lib/python3.12/site-packages (from huggingface-hub>=0.20.0->sentence_transformers) (2025.3.2)\n",
      "Requirement already satisfied: hf-xet<2.0.0,>=1.1.0 in /home/ameli/cse517p-project/.venv/lib/python3.12/site-packages (from huggingface-hub>=0.20.0->sentence_transformers) (1.1.0)\n",
      "Requirement already satisfied: setuptools in /home/ameli/cse517p-project/.venv/lib/python3.12/site-packages (from torch>=1.11.0->sentence_transformers) (80.3.1)\n",
      "Requirement already satisfied: sympy>=1.13.3 in /home/ameli/cse517p-project/.venv/lib/python3.12/site-packages (from torch>=1.11.0->sentence_transformers) (1.14.0)\n",
      "Requirement already satisfied: networkx in /home/ameli/cse517p-project/.venv/lib/python3.12/site-packages (from torch>=1.11.0->sentence_transformers) (3.4.2)\n",
      "Requirement already satisfied: jinja2 in /home/ameli/cse517p-project/.venv/lib/python3.12/site-packages (from torch>=1.11.0->sentence_transformers) (3.1.6)\n",
      "Requirement already satisfied: nvidia-cuda-nvrtc-cu12==12.6.77 in /home/ameli/cse517p-project/.venv/lib/python3.12/site-packages (from torch>=1.11.0->sentence_transformers) (12.6.77)\n",
      "Requirement already satisfied: nvidia-cuda-runtime-cu12==12.6.77 in /home/ameli/cse517p-project/.venv/lib/python3.12/site-packages (from torch>=1.11.0->sentence_transformers) (12.6.77)\n",
      "Requirement already satisfied: nvidia-cuda-cupti-cu12==12.6.80 in /home/ameli/cse517p-project/.venv/lib/python3.12/site-packages (from torch>=1.11.0->sentence_transformers) (12.6.80)\n",
      "Requirement already satisfied: nvidia-cudnn-cu12==9.5.1.17 in /home/ameli/cse517p-project/.venv/lib/python3.12/site-packages (from torch>=1.11.0->sentence_transformers) (9.5.1.17)\n",
      "Requirement already satisfied: nvidia-cublas-cu12==12.6.4.1 in /home/ameli/cse517p-project/.venv/lib/python3.12/site-packages (from torch>=1.11.0->sentence_transformers) (12.6.4.1)\n",
      "Requirement already satisfied: nvidia-cufft-cu12==11.3.0.4 in /home/ameli/cse517p-project/.venv/lib/python3.12/site-packages (from torch>=1.11.0->sentence_transformers) (11.3.0.4)\n",
      "Requirement already satisfied: nvidia-curand-cu12==10.3.7.77 in /home/ameli/cse517p-project/.venv/lib/python3.12/site-packages (from torch>=1.11.0->sentence_transformers) (10.3.7.77)\n",
      "Requirement already satisfied: nvidia-cusolver-cu12==11.7.1.2 in /home/ameli/cse517p-project/.venv/lib/python3.12/site-packages (from torch>=1.11.0->sentence_transformers) (11.7.1.2)\n",
      "Requirement already satisfied: nvidia-cusparse-cu12==12.5.4.2 in /home/ameli/cse517p-project/.venv/lib/python3.12/site-packages (from torch>=1.11.0->sentence_transformers) (12.5.4.2)\n",
      "Requirement already satisfied: nvidia-cusparselt-cu12==0.6.3 in /home/ameli/cse517p-project/.venv/lib/python3.12/site-packages (from torch>=1.11.0->sentence_transformers) (0.6.3)\n",
      "Requirement already satisfied: nvidia-nccl-cu12==2.26.2 in /home/ameli/cse517p-project/.venv/lib/python3.12/site-packages (from torch>=1.11.0->sentence_transformers) (2.26.2)\n",
      "Requirement already satisfied: nvidia-nvtx-cu12==12.6.77 in /home/ameli/cse517p-project/.venv/lib/python3.12/site-packages (from torch>=1.11.0->sentence_transformers) (12.6.77)\n",
      "Requirement already satisfied: nvidia-nvjitlink-cu12==12.6.85 in /home/ameli/cse517p-project/.venv/lib/python3.12/site-packages (from torch>=1.11.0->sentence_transformers) (12.6.85)\n",
      "Requirement already satisfied: nvidia-cufile-cu12==1.11.1.6 in /home/ameli/cse517p-project/.venv/lib/python3.12/site-packages (from torch>=1.11.0->sentence_transformers) (1.11.1.6)\n",
      "Requirement already satisfied: triton==3.3.0 in /home/ameli/cse517p-project/.venv/lib/python3.12/site-packages (from torch>=1.11.0->sentence_transformers) (3.3.0)\n",
      "Requirement already satisfied: mpmath<1.4,>=1.1.0 in /home/ameli/cse517p-project/.venv/lib/python3.12/site-packages (from sympy>=1.13.3->torch>=1.11.0->sentence_transformers) (1.3.0)\n",
      "Requirement already satisfied: MarkupSafe>=2.0 in /home/ameli/cse517p-project/.venv/lib/python3.12/site-packages (from jinja2->torch>=1.11.0->sentence_transformers) (3.0.2)\n",
      "Requirement already satisfied: charset-normalizer<4,>=2 in /home/ameli/cse517p-project/.venv/lib/python3.12/site-packages (from requests->transformers<5.0.0,>=4.41.0->sentence_transformers) (3.4.2)\n",
      "Requirement already satisfied: idna<4,>=2.5 in /home/ameli/cse517p-project/.venv/lib/python3.12/site-packages (from requests->transformers<5.0.0,>=4.41.0->sentence_transformers) (3.10)\n",
      "Requirement already satisfied: urllib3<3,>=1.21.1 in /home/ameli/cse517p-project/.venv/lib/python3.12/site-packages (from requests->transformers<5.0.0,>=4.41.0->sentence_transformers) (2.4.0)\n",
      "Requirement already satisfied: certifi>=2017.4.17 in /home/ameli/cse517p-project/.venv/lib/python3.12/site-packages (from requests->transformers<5.0.0,>=4.41.0->sentence_transformers) (2025.4.26)\n",
      "Requirement already satisfied: joblib>=1.2.0 in /home/ameli/cse517p-project/.venv/lib/python3.12/site-packages (from scikit-learn->sentence_transformers) (1.5.0)\n",
      "Requirement already satisfied: threadpoolctl>=3.1.0 in /home/ameli/cse517p-project/.venv/lib/python3.12/site-packages (from scikit-learn->sentence_transformers) (3.6.0)\n",
      "Requirement already satisfied: nltk in /home/ameli/cse517p-project/.venv/lib/python3.12/site-packages (3.9.1)\n",
      "Requirement already satisfied: click in /home/ameli/cse517p-project/.venv/lib/python3.12/site-packages (from nltk) (8.1.8)\n",
      "Requirement already satisfied: joblib in /home/ameli/cse517p-project/.venv/lib/python3.12/site-packages (from nltk) (1.5.0)\n",
      "Requirement already satisfied: regex>=2021.8.3 in /home/ameli/cse517p-project/.venv/lib/python3.12/site-packages (from nltk) (2024.11.6)\n",
      "Requirement already satisfied: tqdm in /home/ameli/cse517p-project/.venv/lib/python3.12/site-packages (from nltk) (4.67.1)\n"
     ]
    }
   ],
   "source": [
    "%%bash\n",
    "# Install required packages\n",
    "pip install pandas\n",
    "pip install sentence-transformers\n",
    "\n",
    "#Had to add these to make it work locally\n",
    "pip install matplotlib\n",
    "pip install seaborn\n",
    "pip install sentence_transformers\n",
    "pip install nltk"
   ]
  },
  {
   "cell_type": "code",
   "execution_count": 266,
   "id": "a0f41c78",
   "metadata": {},
   "outputs": [
    {
     "name": "stdout",
     "output_type": "stream",
     "text": [
      "Using cuda device\n"
     ]
    }
   ],
   "source": [
    "import os\n",
    "import json\n",
    "import re\n",
    "from typing import List, Tuple, Dict, Union\n",
    "from pprint import pprint\n",
    "import matplotlib.pyplot as plt\n",
    "import seaborn as sns\n",
    "import pandas as pd\n",
    "import nltk\n",
    "from nltk.tokenize import word_tokenize\n",
    "from sentence_transformers import SentenceTransformer\n",
    "from sentence_transformers import SentenceTransformer\n",
    "import torch\n",
    "from torch.utils.data import TensorDataset, DataLoader\n",
    "import torch.nn as nn\n",
    "from torch.optim import Adam\n",
    "import numpy as np\n",
    "import importlib\n",
    "from collections import Counter\n",
    "import string\n",
    "\n",
    "# import QSFNN\n",
    "# importlib.reload(QSFNN)\n",
    "\n",
    "DEVICE = \"cuda\" if torch.cuda.is_available() else \"cpu\"\n",
    "print(f\"Using {DEVICE} device\")"
   ]
  },
  {
   "cell_type": "code",
   "execution_count": 267,
   "id": "b674bf48",
   "metadata": {},
   "outputs": [
    {
     "name": "stdout",
     "output_type": "stream",
     "text": [
      "/home/ameli/cse517p-project/src/data_parsing/../../data\n"
     ]
    }
   ],
   "source": [
    "parent_dir = os.path.dirname(os.path.abspath(\"__file__\"))\n",
    "data_dir = os.path.join(parent_dir, \"../../data\")\n",
    "print(data_dir)"
   ]
  },
  {
   "cell_type": "code",
   "execution_count": 268,
   "id": "688d13a3",
   "metadata": {},
   "outputs": [],
   "source": [
    "raw_dataset = pd.read_csv(\n",
    "    f\"{data_dir}/raw_data/nasa_transcripts.csv\"\n",
    ")"
   ]
  },
  {
   "cell_type": "code",
   "execution_count": 269,
   "id": "0904bf64",
   "metadata": {},
   "outputs": [
    {
     "data": {
      "text/html": [
       "<div>\n",
       "<style scoped>\n",
       "    .dataframe tbody tr th:only-of-type {\n",
       "        vertical-align: middle;\n",
       "    }\n",
       "\n",
       "    .dataframe tbody tr th {\n",
       "        vertical-align: top;\n",
       "    }\n",
       "\n",
       "    .dataframe thead th {\n",
       "        text-align: right;\n",
       "    }\n",
       "</style>\n",
       "<table border=\"1\" class=\"dataframe\">\n",
       "  <thead>\n",
       "    <tr style=\"text-align: right;\">\n",
       "      <th></th>\n",
       "      <th>mission</th>\n",
       "      <th>document</th>\n",
       "      <th>speaker_code</th>\n",
       "      <th>dialogue</th>\n",
       "    </tr>\n",
       "  </thead>\n",
       "  <tbody>\n",
       "    <tr>\n",
       "      <th>0</th>\n",
       "      <td>apollo_17</td>\n",
       "      <td>AS17_TEC.pdf</td>\n",
       "      <td>CDR</td>\n",
       "      <td>Roger. The clock has started. We have yaw.</td>\n",
       "    </tr>\n",
       "    <tr>\n",
       "      <th>1</th>\n",
       "      <td>apollo_17</td>\n",
       "      <td>AS17_TEC.pdf</td>\n",
       "      <td>CDR</td>\n",
       "      <td>Roger; tower. Yaw's complete. We're into roll,...</td>\n",
       "    </tr>\n",
       "    <tr>\n",
       "      <th>2</th>\n",
       "      <td>apollo_17</td>\n",
       "      <td>AS17_TEC.pdf</td>\n",
       "      <td>CC</td>\n",
       "      <td>Roger, Geno. Looking great. Thrust good on all...</td>\n",
       "    </tr>\n",
       "    <tr>\n",
       "      <th>3</th>\n",
       "      <td>apollo_17</td>\n",
       "      <td>AS17_TEC.pdf</td>\n",
       "      <td>CDR</td>\n",
       "      <td>Okay, babe. It 's looking good here.</td>\n",
       "    </tr>\n",
       "    <tr>\n",
       "      <th>4</th>\n",
       "      <td>apollo_17</td>\n",
       "      <td>AS17_TEC.pdf</td>\n",
       "      <td>CDR</td>\n",
       "      <td>Roll is complete. We are pitching.</td>\n",
       "    </tr>\n",
       "  </tbody>\n",
       "</table>\n",
       "</div>"
      ],
      "text/plain": [
       "     mission      document speaker_code  \\\n",
       "0  apollo_17  AS17_TEC.pdf          CDR   \n",
       "1  apollo_17  AS17_TEC.pdf          CDR   \n",
       "2  apollo_17  AS17_TEC.pdf           CC   \n",
       "3  apollo_17  AS17_TEC.pdf          CDR   \n",
       "4  apollo_17  AS17_TEC.pdf          CDR   \n",
       "\n",
       "                                            dialogue  \n",
       "0         Roger. The clock has started. We have yaw.  \n",
       "1  Roger; tower. Yaw's complete. We're into roll,...  \n",
       "2  Roger, Geno. Looking great. Thrust good on all...  \n",
       "3               Okay, babe. It 's looking good here.  \n",
       "4                 Roll is complete. We are pitching.  "
      ]
     },
     "execution_count": 269,
     "metadata": {},
     "output_type": "execute_result"
    }
   ],
   "source": [
    "raw_dataset.head()"
   ]
  },
  {
   "cell_type": "code",
   "execution_count": 270,
   "id": "908d0565",
   "metadata": {},
   "outputs": [],
   "source": [
    "dialogue = raw_dataset[\"dialogue\"]"
   ]
  },
  {
   "cell_type": "code",
   "execution_count": 271,
   "id": "6f732264",
   "metadata": {},
   "outputs": [
    {
     "name": "stdout",
     "output_type": "stream",
     "text": [
      "0           roger. the clock has started. we have yaw.\n",
      "1    roger; tower. yaw's complete. we're into roll,...\n",
      "2    roger, geno. looking great. thrust good on all...\n",
      "3                 okay, babe. it 's looking good here.\n",
      "4                   roll is complete. we are pitching.\n",
      "Name: dialogue, dtype: object\n"
     ]
    }
   ],
   "source": [
    "dialogue = dialogue.str.lower()\n",
    "print(dialogue.head())"
   ]
  },
  {
   "cell_type": "code",
   "execution_count": 272,
   "id": "1b2ad459",
   "metadata": {},
   "outputs": [
    {
     "name": "stdout",
     "output_type": "stream",
     "text": [
      "Counter({' ': 2049011, 'e': 887752, 't': 803702, 'o': 726946, 'a': 631592, 'i': 495660, 'n': 478271, 'r': 429283, 'h': 414336, 's': 407060, 'l': 321261, '.': 307345, 'u': 272136, 'd': 264813, 'y': 227812, 'g': 220862, 'c': 201774, 'w': 174847, ',': 168867, 'm': 168357, 'p': 143206, 'k': 138371, 'f': 123640, 'b': 115091, \"'\": 107150, '-': 89039, 'v': 80173, '0': 75514, '1': 51513, '2': 44407, '_': 37795, '5': 34234, '3': 32895, '4': 28397, '?': 27432, 'j': 24275, '6': 19258, ';': 18015, '7': 17305, '8': 14368, '9': 12991, ':': 9856, 'x': 9465, '*': 8922, 'q': 7425, 'z': 6531, '(': 6245, ')': 6140, '\"': 5376, '/': 4889, '!': 2861, '°': 2129, ']': 1932, '[': 1602, '%': 891, '{': 878, '}': 600, '&': 563, '·': 512, '#': 327, '$': 284, '=': 208, '¢': 146, '£': 115, '¥': 111, '<': 106, '©': 85, '±': 82, '>': 82, '+': 63, '\\\\': 52, '~': 32, '×': 18, '^': 15, '@': 11, '®': 7, '½': 6, '¸': 6, '|': 6, '§': 3, '¼': 1, 'ù': 1})\n",
      "82\n"
     ]
    }
   ],
   "source": [
    "# Combine all text in the DataFrame into a single string\n",
    "all_text = ''.join(dialogue.astype(str).values.flatten())\n",
    "\n",
    "# Count each character\n",
    "char_counts = Counter(all_text)\n",
    "print(char_counts)\n",
    "print(len(char_counts))\n",
    "\n",
    "to_remove = []\n",
    "\n",
    "for char in char_counts:\n",
    "    if char_counts[char] < 150:\n",
    "        to_remove.append(char)\n"
   ]
  },
  {
   "cell_type": "code",
   "execution_count": 273,
   "id": "534f9b64",
   "metadata": {},
   "outputs": [
    {
     "data": {
      "text/plain": [
       "0           roger. the clock has started. we have yaw.\n",
       "1    roger; tower. yaw's complete. we're into roll,...\n",
       "2    roger, geno. looking great. thrust good on all...\n",
       "3                 okay, babe. it 's looking good here.\n",
       "4                   roll is complete. we are pitching.\n",
       "Name: dialogue, dtype: object"
      ]
     },
     "execution_count": 273,
     "metadata": {},
     "output_type": "execute_result"
    }
   ],
   "source": [
    "dialogue.head()"
   ]
  },
  {
   "cell_type": "code",
   "execution_count": 274,
   "id": "cf135d48",
   "metadata": {},
   "outputs": [],
   "source": [
    "\n",
    "def clean_data(input):\n",
    "    clean_dialogue = []\n",
    "    joined = ''.join(to_remove)\n",
    "    joined+=\"{}[]°\"\n",
    "    joined+=string.punctuation\n",
    "\n",
    "    trans = str.maketrans('', '', joined)\n",
    "\n",
    "    for line in input:\n",
    "        cleaned = line.translate(trans)\n",
    "        \n",
    "        clean_dialogue.append(cleaned)\n",
    "\n",
    "        \n",
    "   \n",
    "    return pd.DataFrame(clean_dialogue, columns=['dialogue'])\n"
   ]
  },
  {
   "cell_type": "code",
   "execution_count": 275,
   "id": "95d47075",
   "metadata": {},
   "outputs": [
    {
     "name": "stdout",
     "output_type": "stream",
     "text": [
      "                                                 dialogue\n",
      "0                 roger the clock has started we have yaw\n",
      "1            roger tower yaws complete were into roll bob\n",
      "2       roger geno looking great thrust good on all fi...\n",
      "3                        okay babe it s looking good here\n",
      "4                        roll is complete we are pitching\n",
      "...                                                   ...\n",
      "143722  330 169 15 08 03 15 31 hornet do you have an e...\n",
      "143723  the condition of crew  4000  3500 feet on the ...\n",
      "143724  okay our splashdown error isby latitude longit...\n",
      "143725  apollo 11 at 1500 feet 08 c3 17 27 hornet horn...\n",
      "143726   300 feet 08 03 17 56 swim 1 roger youre looki...\n",
      "\n",
      "[142053 rows x 1 columns]\n",
      "99437 21308 21308\n"
     ]
    }
   ],
   "source": [
    "dialogue_clean = clean_data(dialogue)\n",
    "\n",
    "dialogue_clean.head()\n",
    "\n",
    "dialogue_clean.replace('', np.nan, inplace=True)\n",
    "dialogue_clean.dropna(inplace=True) \n",
    "\n",
    "print(dialogue_clean)\n",
    "train_end = int(0.7 * len(dialogue_clean))\n",
    "dev_end = int(0.85 * len(dialogue_clean))\n",
    "\n",
    "\n",
    "\n",
    "# Split the DataFrame\n",
    "train_df = dialogue_clean.iloc[:train_end]\n",
    "dev_df   = dialogue_clean.iloc[train_end:dev_end]\n",
    "test_df  = dialogue_clean.iloc[dev_end:]\n",
    "\n",
    "# Optional: check sizes\n",
    "print(len(train_df), len(dev_df), len(test_df))\n",
    "\n"
   ]
  },
  {
   "cell_type": "code",
   "execution_count": 276,
   "id": "f230b60b",
   "metadata": {},
   "outputs": [],
   "source": [
    "out_dir = data_dir\n",
    "\n",
    "train_df.to_csv(f\"{data_dir}/parsed_data/train_nasa.csv\", index=False)\n",
    "dev_df.to_csv(f\"{data_dir}/parsed_data/dev_nasa.csv\", index=False)\n",
    "test_df.to_csv(f\"{data_dir}/parsed_data/test_nasa.csv\", index=False)"
   ]
  },
  {
   "cell_type": "code",
   "execution_count": 277,
   "id": "8d7812be",
   "metadata": {},
   "outputs": [],
   "source": [
    "star_trek_dialogue = pd.read_json(f\"{data_dir}/raw_data/star_trek_raw_lines.json\")\n",
    "star_trek_dialogue = star_trek_dialogue[\"message\"].str.lower()\n",
    "\n",
    "star_trek_dialogue = clean_data(star_trek_dialogue)\n",
    "\n",
    "star_trek_dialogue.replace('', np.nan, inplace=True)\n",
    "star_trek_dialogue.dropna(inplace=True) \n",
    "\n",
    "star_trek_dialogue = pd.DataFrame(star_trek_dialogue)"
   ]
  },
  {
   "cell_type": "code",
   "execution_count": 278,
   "id": "6522a342",
   "metadata": {},
   "outputs": [
    {
     "data": {
      "text/html": [
       "<div>\n",
       "<style scoped>\n",
       "    .dataframe tbody tr th:only-of-type {\n",
       "        vertical-align: middle;\n",
       "    }\n",
       "\n",
       "    .dataframe tbody tr th {\n",
       "        vertical-align: top;\n",
       "    }\n",
       "\n",
       "    .dataframe thead th {\n",
       "        text-align: right;\n",
       "    }\n",
       "</style>\n",
       "<table border=\"1\" class=\"dataframe\">\n",
       "  <thead>\n",
       "    <tr style=\"text-align: right;\">\n",
       "      <th></th>\n",
       "      <th>dialogue</th>\n",
       "    </tr>\n",
       "  </thead>\n",
       "  <tbody>\n",
       "    <tr>\n",
       "      <th>0</th>\n",
       "      <td>check the circuit</td>\n",
       "    </tr>\n",
       "    <tr>\n",
       "      <th>1</th>\n",
       "      <td>all operating sir</td>\n",
       "    </tr>\n",
       "    <tr>\n",
       "      <th>2</th>\n",
       "      <td>it cant be the screen then definitely somethin...</td>\n",
       "    </tr>\n",
       "    <tr>\n",
       "      <th>3</th>\n",
       "      <td>it could be these meteorites</td>\n",
       "    </tr>\n",
       "    <tr>\n",
       "      <th>4</th>\n",
       "      <td>no its something else theres still something o...</td>\n",
       "    </tr>\n",
       "  </tbody>\n",
       "</table>\n",
       "</div>"
      ],
      "text/plain": [
       "                                            dialogue\n",
       "0                                  check the circuit\n",
       "1                                  all operating sir\n",
       "2  it cant be the screen then definitely somethin...\n",
       "3                       it could be these meteorites\n",
       "4  no its something else theres still something o..."
      ]
     },
     "execution_count": 278,
     "metadata": {},
     "output_type": "execute_result"
    }
   ],
   "source": [
    "star_trek_dialogue.head()"
   ]
  },
  {
   "cell_type": "code",
   "execution_count": 279,
   "id": "93159892",
   "metadata": {},
   "outputs": [
    {
     "name": "stdout",
     "output_type": "stream",
     "text": [
      "189079 40517 40517\n"
     ]
    }
   ],
   "source": [
    "train_end = int(0.7 * len(star_trek_dialogue))\n",
    "dev_end = int(0.85 * len(star_trek_dialogue))\n",
    "\n",
    "# Split the DataFrame\n",
    "train_df = star_trek_dialogue.iloc[:train_end]\n",
    "dev_df   = star_trek_dialogue.iloc[train_end:dev_end]\n",
    "test_df  = star_trek_dialogue.iloc[dev_end:]\n",
    "\n",
    "# Optional: check sizes\n",
    "print(len(train_df), len(dev_df), len(test_df))"
   ]
  },
  {
   "cell_type": "code",
   "execution_count": 280,
   "id": "90782d98",
   "metadata": {},
   "outputs": [],
   "source": [
    "train_df.to_csv(f\"{data_dir}/parsed_data/train_trek.csv\", index=False)\n",
    "dev_df.to_csv(f\"{data_dir}/parsed_data/dev_trek.csv\", index=False)\n",
    "test_df.to_csv(f\"{data_dir}/parsed_data/test_trek.csv\", index=False)"
   ]
  }
 ],
 "metadata": {
  "kernelspec": {
   "display_name": ".venv",
   "language": "python",
   "name": "python3"
  },
  "language_info": {
   "codemirror_mode": {
    "name": "ipython",
    "version": 3
   },
   "file_extension": ".py",
   "mimetype": "text/x-python",
   "name": "python",
   "nbconvert_exporter": "python",
   "pygments_lexer": "ipython3",
   "version": "3.12.3"
  }
 },
 "nbformat": 4,
 "nbformat_minor": 5
}
